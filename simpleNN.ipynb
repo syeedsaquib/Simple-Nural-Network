{
 "cells": [
  {
   "cell_type": "code",
   "execution_count": 61,
   "metadata": {},
   "outputs": [],
   "source": [
    "from sklearn import datasets\n",
    "from keras.layers import Dense\n",
    "from keras.models import Sequential\n",
    "from sklearn.model_selection import train_test_split"
   ]
  },
  {
   "cell_type": "code",
   "execution_count": 62,
   "metadata": {},
   "outputs": [],
   "source": [
    "model = Sequential()"
   ]
  },
  {
   "cell_type": "code",
   "execution_count": 63,
   "metadata": {},
   "outputs": [],
   "source": [
    "model.add(Dense(units=30, activation='relu'))\n",
    "model.add(Dense(units=16, activation='relu'))\n",
    "model.add(Dense(units=1, activation='sigmoid'))\n"
   ]
  },
  {
   "cell_type": "code",
   "execution_count": 64,
   "metadata": {},
   "outputs": [],
   "source": [
    "model.compile(optimizer='adam', loss='binary_crossentropy',metrics=['accuracy'])"
   ]
  },
  {
   "cell_type": "code",
   "execution_count": 65,
   "metadata": {},
   "outputs": [],
   "source": [
    "data = datasets.load_breast_cancer()\n",
    "X_train, X_test, Y_train, Y_test = train_test_split(data.data, data.target, test_size=0.2)\n"
   ]
  },
  {
   "cell_type": "code",
   "execution_count": 66,
   "metadata": {},
   "outputs": [
    {
     "name": "stdout",
     "output_type": "stream",
     "text": [
      "Epoch 1/20\n"
     ]
    },
    {
     "name": "stdout",
     "output_type": "stream",
     "text": [
      "\u001b[1m10/10\u001b[0m \u001b[32m━━━━━━━━━━━━━━━━━━━━\u001b[0m\u001b[37m\u001b[0m \u001b[1m2s\u001b[0m 39ms/step - accuracy: 0.7715 - loss: 1.6050 - val_accuracy: 0.6667 - val_loss: 1.6483\n",
      "Epoch 2/20\n",
      "\u001b[1m10/10\u001b[0m \u001b[32m━━━━━━━━━━━━━━━━━━━━\u001b[0m\u001b[37m\u001b[0m \u001b[1m0s\u001b[0m 11ms/step - accuracy: 0.7226 - loss: 1.5461 - val_accuracy: 0.8684 - val_loss: 1.0979\n",
      "Epoch 3/20\n",
      "\u001b[1m10/10\u001b[0m \u001b[32m━━━━━━━━━━━━━━━━━━━━\u001b[0m\u001b[37m\u001b[0m \u001b[1m0s\u001b[0m 10ms/step - accuracy: 0.8714 - loss: 0.9522 - val_accuracy: 0.8596 - val_loss: 0.8011\n",
      "Epoch 4/20\n",
      "\u001b[1m10/10\u001b[0m \u001b[32m━━━━━━━━━━━━━━━━━━━━\u001b[0m\u001b[37m\u001b[0m \u001b[1m0s\u001b[0m 12ms/step - accuracy: 0.8820 - loss: 0.8052 - val_accuracy: 0.8596 - val_loss: 0.7330\n",
      "Epoch 5/20\n",
      "\u001b[1m10/10\u001b[0m \u001b[32m━━━━━━━━━━━━━━━━━━━━\u001b[0m\u001b[37m\u001b[0m \u001b[1m0s\u001b[0m 12ms/step - accuracy: 0.8685 - loss: 0.6242 - val_accuracy: 0.9211 - val_loss: 0.7071\n",
      "Epoch 6/20\n",
      "\u001b[1m10/10\u001b[0m \u001b[32m━━━━━━━━━━━━━━━━━━━━\u001b[0m\u001b[37m\u001b[0m \u001b[1m0s\u001b[0m 12ms/step - accuracy: 0.8584 - loss: 0.8067 - val_accuracy: 0.8947 - val_loss: 0.6004\n",
      "Epoch 7/20\n",
      "\u001b[1m10/10\u001b[0m \u001b[32m━━━━━━━━━━━━━━━━━━━━\u001b[0m\u001b[37m\u001b[0m \u001b[1m0s\u001b[0m 11ms/step - accuracy: 0.8913 - loss: 0.5265 - val_accuracy: 0.8947 - val_loss: 0.5747\n",
      "Epoch 8/20\n",
      "\u001b[1m10/10\u001b[0m \u001b[32m━━━━━━━━━━━━━━━━━━━━\u001b[0m\u001b[37m\u001b[0m \u001b[1m0s\u001b[0m 13ms/step - accuracy: 0.8624 - loss: 0.6260 - val_accuracy: 0.9211 - val_loss: 0.5736\n",
      "Epoch 9/20\n",
      "\u001b[1m10/10\u001b[0m \u001b[32m━━━━━━━━━━━━━━━━━━━━\u001b[0m\u001b[37m\u001b[0m \u001b[1m0s\u001b[0m 12ms/step - accuracy: 0.8902 - loss: 0.5846 - val_accuracy: 0.9123 - val_loss: 0.5765\n",
      "Epoch 10/20\n",
      "\u001b[1m10/10\u001b[0m \u001b[32m━━━━━━━━━━━━━━━━━━━━\u001b[0m\u001b[37m\u001b[0m \u001b[1m0s\u001b[0m 13ms/step - accuracy: 0.8962 - loss: 0.5538 - val_accuracy: 0.8947 - val_loss: 0.4993\n",
      "Epoch 11/20\n",
      "\u001b[1m10/10\u001b[0m \u001b[32m━━━━━━━━━━━━━━━━━━━━\u001b[0m\u001b[37m\u001b[0m \u001b[1m0s\u001b[0m 13ms/step - accuracy: 0.8932 - loss: 0.4879 - val_accuracy: 0.8947 - val_loss: 0.4822\n",
      "Epoch 12/20\n",
      "\u001b[1m10/10\u001b[0m \u001b[32m━━━━━━━━━━━━━━━━━━━━\u001b[0m\u001b[37m\u001b[0m \u001b[1m0s\u001b[0m 11ms/step - accuracy: 0.8324 - loss: 0.9330 - val_accuracy: 0.9123 - val_loss: 0.5364\n",
      "Epoch 13/20\n",
      "\u001b[1m10/10\u001b[0m \u001b[32m━━━━━━━━━━━━━━━━━━━━\u001b[0m\u001b[37m\u001b[0m \u001b[1m0s\u001b[0m 9ms/step - accuracy: 0.9125 - loss: 0.4751 - val_accuracy: 0.9123 - val_loss: 0.5444\n",
      "Epoch 14/20\n",
      "\u001b[1m10/10\u001b[0m \u001b[32m━━━━━━━━━━━━━━━━━━━━\u001b[0m\u001b[37m\u001b[0m \u001b[1m0s\u001b[0m 10ms/step - accuracy: 0.9019 - loss: 0.6830 - val_accuracy: 0.9035 - val_loss: 0.5120\n",
      "Epoch 15/20\n",
      "\u001b[1m10/10\u001b[0m \u001b[32m━━━━━━━━━━━━━━━━━━━━\u001b[0m\u001b[37m\u001b[0m \u001b[1m0s\u001b[0m 10ms/step - accuracy: 0.8620 - loss: 0.5927 - val_accuracy: 0.9298 - val_loss: 0.3825\n",
      "Epoch 16/20\n",
      "\u001b[1m10/10\u001b[0m \u001b[32m━━━━━━━━━━━━━━━━━━━━\u001b[0m\u001b[37m\u001b[0m \u001b[1m0s\u001b[0m 16ms/step - accuracy: 0.9105 - loss: 0.5356 - val_accuracy: 0.9123 - val_loss: 0.3625\n",
      "Epoch 17/20\n",
      "\u001b[1m10/10\u001b[0m \u001b[32m━━━━━━━━━━━━━━━━━━━━\u001b[0m\u001b[37m\u001b[0m \u001b[1m0s\u001b[0m 21ms/step - accuracy: 0.8878 - loss: 0.5152 - val_accuracy: 0.8947 - val_loss: 0.8366\n",
      "Epoch 18/20\n",
      "\u001b[1m10/10\u001b[0m \u001b[32m━━━━━━━━━━━━━━━━━━━━\u001b[0m\u001b[37m\u001b[0m \u001b[1m0s\u001b[0m 9ms/step - accuracy: 0.9020 - loss: 0.6693 - val_accuracy: 0.8860 - val_loss: 0.3813\n",
      "Epoch 19/20\n",
      "\u001b[1m10/10\u001b[0m \u001b[32m━━━━━━━━━━━━━━━━━━━━\u001b[0m\u001b[37m\u001b[0m \u001b[1m0s\u001b[0m 21ms/step - accuracy: 0.8765 - loss: 0.4389 - val_accuracy: 0.9123 - val_loss: 0.3195\n",
      "Epoch 20/20\n",
      "\u001b[1m10/10\u001b[0m \u001b[32m━━━━━━━━━━━━━━━━━━━━\u001b[0m\u001b[37m\u001b[0m \u001b[1m0s\u001b[0m 14ms/step - accuracy: 0.8868 - loss: 0.4497 - val_accuracy: 0.9386 - val_loss: 0.3292\n"
     ]
    },
    {
     "data": {
      "text/plain": [
       "<keras.src.callbacks.history.History at 0x217ccdc6750>"
      ]
     },
     "execution_count": 66,
     "metadata": {},
     "output_type": "execute_result"
    }
   ],
   "source": [
    "model.fit(X_train, Y_train, epochs=20, batch_size=50, validation_data=(X_test, Y_test))"
   ]
  },
  {
   "cell_type": "code",
   "execution_count": 68,
   "metadata": {},
   "outputs": [
    {
     "name": "stdout",
     "output_type": "stream",
     "text": [
      "\u001b[1m4/4\u001b[0m \u001b[32m━━━━━━━━━━━━━━━━━━━━\u001b[0m\u001b[37m\u001b[0m \u001b[1m0s\u001b[0m 3ms/step - accuracy: 0.9494 - loss: 0.2801 \n"
     ]
    },
    {
     "data": {
      "text/plain": [
       "[0.32915422320365906, 0.9385964870452881]"
      ]
     },
     "execution_count": 68,
     "metadata": {},
     "output_type": "execute_result"
    }
   ],
   "source": [
    "model.evaluate(X_test,Y_test)"
   ]
  },
  {
   "cell_type": "code",
   "execution_count": 84,
   "metadata": {},
   "outputs": [
    {
     "name": "stdout",
     "output_type": "stream",
     "text": [
      "\u001b[1m4/4\u001b[0m \u001b[32m━━━━━━━━━━━━━━━━━━━━\u001b[0m\u001b[37m\u001b[0m \u001b[1m0s\u001b[0m 3ms/step \n",
      "[0.99998087]\n",
      "[1.5124846e-11]\n",
      "[0.99869174]\n",
      "[0.9999326]\n",
      "[0.9999276]\n",
      "[0.9999693]\n",
      "[0.9999132]\n",
      "[6.764273e-24]\n",
      "[7.189008e-23]\n",
      "[0.8382698]\n",
      "[0.9999982]\n",
      "[0.9999939]\n",
      "[7.5211565e-10]\n",
      "[1.7823829e-27]\n",
      "[0.9993278]\n",
      "[4.637649e-09]\n",
      "[0.9993184]\n",
      "[7.811139e-09]\n",
      "[0.79887044]\n",
      "[0.99962986]\n",
      "[0.99914753]\n",
      "[0.9963529]\n",
      "[0.99998975]\n",
      "[0.99601126]\n",
      "[0.99854606]\n",
      "[0.99975693]\n",
      "[0.9999991]\n",
      "[0.98905015]\n",
      "[0.999973]\n",
      "[1.7007158e-05]\n",
      "[0.93163306]\n",
      "[0.9999736]\n",
      "[0.9999873]\n",
      "[0.99981385]\n",
      "[5.8636983e-06]\n",
      "[0.99999744]\n",
      "[2.2834523e-36]\n",
      "[0.1344764]\n",
      "[0.0102053]\n",
      "[0.9996779]\n",
      "[0.99999714]\n",
      "[0.99984384]\n",
      "[5.9734546e-14]\n",
      "[0.9999878]\n",
      "[0.99867475]\n",
      "[0.9999006]\n",
      "[0.99996275]\n",
      "[1.03499625e-14]\n",
      "[0.99969983]\n",
      "[0.9998439]\n",
      "[1.9017905e-11]\n",
      "[0.9983728]\n",
      "[0.99982905]\n",
      "[0.9993263]\n",
      "[2.148642e-10]\n",
      "[3.5812187e-12]\n",
      "[0.1710328]\n",
      "[0.99991643]\n",
      "[0.99999374]\n",
      "[3.562818e-07]\n",
      "[0.14254752]\n",
      "[0.99998075]\n",
      "[0.9999991]\n",
      "[0.99510753]\n",
      "[0.9976163]\n",
      "[1.8664574e-05]\n",
      "[0.9989018]\n",
      "[0.9999631]\n",
      "[2.6265156e-19]\n",
      "[0.19579135]\n",
      "[0.7653597]\n",
      "[8.9870035e-08]\n",
      "[0.]\n",
      "[0.99999785]\n",
      "[0.0370501]\n",
      "[0.39530978]\n",
      "[0.9239697]\n",
      "[0.99753594]\n",
      "[0.01772076]\n",
      "[0.99998534]\n",
      "[4.9254413e-11]\n",
      "[0.9999519]\n",
      "[0.999876]\n",
      "[0.99987745]\n",
      "[4.781583e-34]\n",
      "[0.99997014]\n",
      "[0.99999905]\n",
      "[0.99891764]\n",
      "[0.99990326]\n",
      "[5.320468e-13]\n",
      "[0.9990077]\n",
      "[0.00037495]\n",
      "[0.9986931]\n",
      "[0.99950075]\n",
      "[0.9994768]\n",
      "[0.9975176]\n",
      "[0.99976015]\n",
      "[0.9999689]\n",
      "[0.9999611]\n",
      "[1.9792299e-13]\n",
      "[0.00083733]\n",
      "[2.4596732e-06]\n",
      "[0.9999996]\n",
      "[0.99998236]\n",
      "[0.00011243]\n",
      "[0.9985278]\n",
      "[0.9999715]\n",
      "[0.99994206]\n",
      "[0.9999974]\n",
      "[4.609517e-09]\n",
      "[0.9999192]\n",
      "[0.3425471]\n",
      "[0.9989732]\n",
      "[0.9999185]\n"
     ]
    }
   ],
   "source": [
    "Y_pred = model.predict(X_test)\n",
    "for i in Y_pred:\n",
    "    print(i)"
   ]
  }
 ],
 "metadata": {
  "kernelspec": {
   "display_name": "Python 3",
   "language": "python",
   "name": "python3"
  },
  "language_info": {
   "codemirror_mode": {
    "name": "ipython",
    "version": 3
   },
   "file_extension": ".py",
   "mimetype": "text/x-python",
   "name": "python",
   "nbconvert_exporter": "python",
   "pygments_lexer": "ipython3",
   "version": "3.12.4"
  }
 },
 "nbformat": 4,
 "nbformat_minor": 2
}
